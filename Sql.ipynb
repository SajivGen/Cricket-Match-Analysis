{
 "cells": [
  {
   "cell_type": "code",
   "execution_count": 3,
   "metadata": {},
   "outputs": [],
   "source": [
    "import mysql.connector"
   ]
  },
  {
   "cell_type": "code",
   "execution_count": 7,
   "metadata": {},
   "outputs": [],
   "source": [
    "import pandas as pd"
   ]
  },
  {
   "cell_type": "code",
   "execution_count": 19,
   "metadata": {},
   "outputs": [],
   "source": [
    "mydb = mysql.connector.connect(\n",
    "    host = \"localhost\",\n",
    "    user = \"root\",\n",
    "    password=\"root\"\n",
    ")\n"
   ]
  },
  {
   "cell_type": "code",
   "execution_count": 20,
   "metadata": {},
   "outputs": [],
   "source": [
    "mycursor = mydb.cursor()\n",
    "mycursor.execute(\"CREATE DATABASE Cricket_match_analysis\")"
   ]
  },
  {
   "cell_type": "code",
   "execution_count": 21,
   "metadata": {},
   "outputs": [],
   "source": [
    "mydb = mysql.connector.connect(\n",
    "    host = \"localhost\",\n",
    "    user = \"root\",\n",
    "    password=\"root\",\n",
    "    database=\"Cricket_match_analysis\"\n",
    ")\n",
    "mycursor = mydb.cursor()"
   ]
  },
  {
   "cell_type": "code",
   "execution_count": 22,
   "metadata": {},
   "outputs": [],
   "source": [
    "#Creating T20_international table"
   ]
  },
  {
   "cell_type": "code",
   "execution_count": 23,
   "metadata": {},
   "outputs": [
    {
     "name": "stdout",
     "output_type": "stream",
     "text": [
      "('t20_int_info',)\n"
     ]
    }
   ],
   "source": [
    "mycursor.execute(\"CREATE TABLE T20_int_info(season VARCHAR(20), city VARCHAR(100), venue VARCHAR(100), date DATE, match_type VARCHAR(10), match_type_number INT, \\\n",
    "                 teams VARCHAR(100), toss_winner VARCHAR(100), toss_decision VARCHAR(100), outcome_by_runs FLOAT, outcome_by_wickets FLOAT, \\\n",
    "                 winner VARCHAR(100), player_of_match VARCHAR(100), target FLOAT)\")\n",
    "\n",
    "mycursor.execute(\"SHOW TABLES\")\n",
    "for i in mycursor:\n",
    "    print(i)"
   ]
  },
  {
   "cell_type": "code",
   "execution_count": 24,
   "metadata": {},
   "outputs": [],
   "source": [
    "import pandas as pd\n",
    "T20info_data = pd.read_csv(\"C:/Users/Sajiv/Documents/Cricket/T20_set/T20_match_info.csv\")"
   ]
  },
  {
   "cell_type": "code",
   "execution_count": 25,
   "metadata": {},
   "outputs": [],
   "source": [
    "T20info_data= T20info_data.where(pd.notnull(T20info_data), None)"
   ]
  },
  {
   "cell_type": "code",
   "execution_count": 26,
   "metadata": {},
   "outputs": [],
   "source": [
    "from datetime import datetime\n",
    "for index, row in T20info_data.iterrows():\n",
    "\n",
    "    date_str = row['date']\n",
    "    formatted_date = datetime.strptime(date_str, \"%d-%m-%Y\").strftime(\"%Y-%m-%d\") if pd.notna(date_str) else None"
   ]
  },
  {
   "cell_type": "code",
   "execution_count": 27,
   "metadata": {},
   "outputs": [],
   "source": [
    "insert_query = \"INSERT INTO Cricket_match_analysis.T20_int_info(season, city, venue, date, match_type, match_type_number, \\\n",
    "                 teams, toss_winner, toss_decision, outcome_by_runs, outcome_by_wickets, \\\n",
    "                 winner, player_of_match, target) \\\n",
    "                values(%s,%s,%s,%s,%s,%s,%s,%s,%s,%s,%s,%s,%s,%s)\"\n",
    "\n"
   ]
  },
  {
   "cell_type": "code",
   "execution_count": 28,
   "metadata": {},
   "outputs": [],
   "source": [
    "for index, row in T20info_data.iterrows():\n",
    "    mycursor.execute(insert_query, (\n",
    "        row['season'], \n",
    "        row['city'] if pd.notna(row['city']) else None, \n",
    "        row['venue'], \n",
    "        formatted_date, \n",
    "        row['match_type'],\n",
    "        row['match_type_number'], \n",
    "        row['teams'], \n",
    "        row['toss_winner'], \n",
    "        row['toss_decision'],\n",
    "        row['outcome_by_runs'] if pd.notna(row['outcome_by_runs']) else None, \n",
    "        row['outcome_by_wickets'] if pd.notna(row['outcome_by_wickets']) else None, \n",
    "        row['winner'] if pd.notna(row['winner']) else None,\n",
    "        row['player_of_match'] if pd.notna(row['player_of_match']) else None, \n",
    "        row['target'] if pd.notna(row['target']) else None\n",
    "    ))"
   ]
  },
  {
   "cell_type": "code",
   "execution_count": 29,
   "metadata": {},
   "outputs": [],
   "source": [
    "#Creating T20_international innings table"
   ]
  },
  {
   "cell_type": "code",
   "execution_count": 30,
   "metadata": {},
   "outputs": [],
   "source": [
    "mydb = mysql.connector.connect(\n",
    "    host = \"localhost\",\n",
    "    user = \"root\",\n",
    "    password=\"root\",\n",
    "    database=\"Cricket_match_analysis\"\n",
    ")\n",
    "mycursor = mydb.cursor()"
   ]
  },
  {
   "cell_type": "code",
   "execution_count": 31,
   "metadata": {},
   "outputs": [],
   "source": [
    "mycursor.execute(\"CREATE TABLE T20_int_inn(season VARCHAR(20), match_type_number INT, team VARCHAR(100), overs INT, batter VARCHAR(100), bowler VARCHAR(100), runs_batter INT, \\\n",
    "                 runs_extras INT, runs_total INT, non_striker VARCHAR(50))\")\n"
   ]
  },
  {
   "cell_type": "code",
   "execution_count": 32,
   "metadata": {},
   "outputs": [],
   "source": [
    "T20int_inn = pd.read_csv(\"C:/Users/Sajiv/Documents/Cricket/T20_set/T20_innings.csv\")"
   ]
  },
  {
   "cell_type": "code",
   "execution_count": 33,
   "metadata": {},
   "outputs": [],
   "source": [
    "insert_query = \"INSERT INTO Cricket_match_analysis.T20_int_inn(season, match_type_number, team, overs, batter, bowler, runs_batter, \\\n",
    "                 runs_extras, runs_total, non_striker) values(%s,%s,%s,%s,%s,%s,%s,%s,%s,%s)\""
   ]
  },
  {
   "cell_type": "code",
   "execution_count": 34,
   "metadata": {},
   "outputs": [],
   "source": [
    "for index, row in T20int_inn.iterrows():\n",
    "    mycursor.execute(insert_query, (\n",
    "        row['season'], \n",
    "        row['match_type_number'], \n",
    "        row['team'], \n",
    "        row['overs'], \n",
    "        row['batter'],\n",
    "        row['bowler'], \n",
    "        row['runs_batter'], \n",
    "        row['runs_extras'],\n",
    "        row['runs_total'], \n",
    "        row['non_striker']\n",
    "))        "
   ]
  },
  {
   "cell_type": "code",
   "execution_count": 35,
   "metadata": {},
   "outputs": [],
   "source": [
    "#Creating IPL_info table"
   ]
  },
  {
   "cell_type": "code",
   "execution_count": 36,
   "metadata": {},
   "outputs": [],
   "source": [
    "mycursor.execute(\"CREATE TABLE IPL_info(season VARCHAR(20), city VARCHAR(100), venue VARCHAR(100), date DATE, match_type VARCHAR(10), match_number INT, \\\n",
    "                 teams VARCHAR(100), toss_winner VARCHAR(100), toss_decision VARCHAR(100), outcome_by_runs FLOAT, outcome_by_wickets FLOAT, \\\n",
    "                 winner VARCHAR(100), player_of_match VARCHAR(100), target FLOAT)\")"
   ]
  },
  {
   "cell_type": "code",
   "execution_count": 37,
   "metadata": {},
   "outputs": [],
   "source": [
    "IPL_data = pd.read_csv(\"C:/Users/Sajiv/Documents/Cricket/IPL_set/IPL_match_info.csv\")\n",
    "IPL_data = IPL_data.where(pd.notnull(IPL_data), None)"
   ]
  },
  {
   "cell_type": "code",
   "execution_count": 43,
   "metadata": {},
   "outputs": [],
   "source": [
    "from datetime import datetime\n",
    "for index, row in IPL_data.iterrows():\n",
    "\n",
    "    date_str = row['date']\n",
    "    formatted_date = datetime.strptime(date_str, \"%d-%m-%Y\").strftime(\"%Y-%m-%d\") if pd.notna(date_str) else None"
   ]
  },
  {
   "cell_type": "code",
   "execution_count": 38,
   "metadata": {},
   "outputs": [],
   "source": [
    "insert_query = \"INSERT INTO Cricket_match_analysis.IPL_info(season, city, venue, date, match_type, match_number, \\\n",
    "                 teams, toss_winner, toss_decision, outcome_by_runs, outcome_by_wickets, \\\n",
    "                 winner, player_of_match, target) \\\n",
    "                values(%s,%s,%s,%s,%s,%s,%s,%s,%s,%s,%s,%s,%s,%s)\""
   ]
  },
  {
   "cell_type": "code",
   "execution_count": 47,
   "metadata": {},
   "outputs": [],
   "source": [
    "for index, row in IPL_data.iterrows():\n",
    "    mycursor.execute(insert_query, (\n",
    "        row['season'] if pd.notna(row['season']) else None, \n",
    "        row['city'] if pd.notna(row['city']) else None, \n",
    "        row['venue'] if pd.notna(row['venue']) else None,  \n",
    "        formatted_date, \n",
    "        row['match_type'] if pd.notna(row['match_type']) else None,\n",
    "        row['match_number'] if pd.notna(row['match_number']) else None,\n",
    "        row['teams'] if pd.notna(row['teams']) else None,\n",
    "        row['toss_winner'] if pd.notna(row['toss_winner']) else None,\n",
    "        row['toss_decision'] if pd.notna(row['toss_decision']) else None,\n",
    "        row['outcome_by_runs'] if pd.notna(row['outcome_by_runs']) else None, \n",
    "        row['outcome_by_wickets'] if pd.notna(row['outcome_by_wickets']) else None, \n",
    "        row['winner'] if pd.notna(row['winner']) else None,\n",
    "        row['player_of_match'] if pd.notna(row['player_of_match']) else None, \n",
    "        row['target'] if pd.notna(row['target']) else None\n",
    "    ))"
   ]
  },
  {
   "cell_type": "code",
   "execution_count": null,
   "metadata": {},
   "outputs": [],
   "source": [
    "#Creating IPL_inn table"
   ]
  },
  {
   "cell_type": "code",
   "execution_count": 48,
   "metadata": {},
   "outputs": [],
   "source": [
    "mycursor.execute(\"CREATE TABLE ipl_inn(season VARCHAR(20), match_number INT, team VARCHAR(100), overs INT, batter VARCHAR(100), bowler VARCHAR(100), runs_batter INT, \\\n",
    "                 runs_extras INT, runs_total INT, non_striker VARCHAR(50))\")"
   ]
  },
  {
   "cell_type": "code",
   "execution_count": 50,
   "metadata": {},
   "outputs": [
    {
     "name": "stderr",
     "output_type": "stream",
     "text": [
      "C:\\Users\\Sajiv\\AppData\\Local\\Temp\\ipykernel_13492\\3374999426.py:1: DtypeWarning: Columns (0) have mixed types. Specify dtype option on import or set low_memory=False.\n",
      "  IPL_inn = pd.read_csv(\"C:/Users/Sajiv/Documents/Cricket/IPL_set/IPL_innings.csv\")\n"
     ]
    }
   ],
   "source": [
    "IPL_inn = pd.read_csv(\"C:/Users/Sajiv/Documents/Cricket/IPL_set/IPL_innings.csv\")"
   ]
  },
  {
   "cell_type": "code",
   "execution_count": 51,
   "metadata": {},
   "outputs": [],
   "source": [
    "insert_query = \"INSERT INTO Cricket_match_analysis.ipl_inn(season, match_number, team, overs, batter, bowler, runs_batter, \\\n",
    "                 runs_extras, runs_total, non_striker) values(%s,%s,%s,%s,%s,%s,%s,%s,%s,%s)\""
   ]
  },
  {
   "cell_type": "code",
   "execution_count": 53,
   "metadata": {},
   "outputs": [],
   "source": [
    "for index, row in IPL_inn.iterrows():\n",
    "    mycursor.execute(insert_query, (\n",
    "        row['season'] if pd.notna(row['season']) else None, \n",
    "        row['match_number'] if pd.notna(row['match_number']) else None, \n",
    "        row['team'] if pd.notna(row['team']) else None, \n",
    "        row['overs'] if pd.notna(row['overs']) else None, \n",
    "        row['batter'] if pd.notna(row['batter']) else None,\n",
    "        row['bowler'] if pd.notna(row['bowler']) else None, \n",
    "        row['runs_batter'] if pd.notna(row['runs_batter']) else None, \n",
    "        row['runs_extras'] if pd.notna(row['runs_extras']) else None,\n",
    "        row['runs_total'] if pd.notna(row['runs_total']) else None, \n",
    "        row['non_striker'] if pd.notna(row['non_striker']) else None\n",
    "))        "
   ]
  },
  {
   "cell_type": "code",
   "execution_count": 54,
   "metadata": {},
   "outputs": [],
   "source": [
    "#Creating ODI_info table"
   ]
  },
  {
   "cell_type": "code",
   "execution_count": 55,
   "metadata": {},
   "outputs": [],
   "source": [
    "mycursor.execute(\"CREATE TABLE ODI_info(season VARCHAR(20), city VARCHAR(100), venue VARCHAR(100), date DATE, match_type VARCHAR(10), match_type_number INT, \\\n",
    "                 teams VARCHAR(100), toss_winner VARCHAR(100), toss_decision VARCHAR(100), outcome_by_runs FLOAT, outcome_by_wickets FLOAT, \\\n",
    "                 winner VARCHAR(100), player_of_match VARCHAR(100), target FLOAT)\")"
   ]
  },
  {
   "cell_type": "code",
   "execution_count": 56,
   "metadata": {},
   "outputs": [],
   "source": [
    "ODI_data = pd.read_csv(\"C:/Users/Sajiv/Documents/Cricket/ODI_set/ODI_match_info.csv\")"
   ]
  },
  {
   "cell_type": "code",
   "execution_count": 57,
   "metadata": {},
   "outputs": [],
   "source": [
    "ODI_data= ODI_data.where(pd.notnull(ODI_data), None)"
   ]
  },
  {
   "cell_type": "code",
   "execution_count": 59,
   "metadata": {},
   "outputs": [],
   "source": [
    "insert_query = \"INSERT INTO Cricket_match_analysis.ODI_info(season, city, venue, date, match_type, match_type_number, \\\n",
    "                 teams, toss_winner, toss_decision, outcome_by_runs, outcome_by_wickets, \\\n",
    "                 winner, player_of_match, target) \\\n",
    "                values(%s,%s,%s,%s,%s,%s,%s,%s,%s,%s,%s,%s,%s,%s)\"\n"
   ]
  },
  {
   "cell_type": "code",
   "execution_count": 60,
   "metadata": {},
   "outputs": [],
   "source": [
    "for index, row in ODI_data.iterrows():\n",
    "    mycursor.execute(insert_query, (\n",
    "        row['season'], \n",
    "        row['city'] if pd.notna(row['city']) else None, \n",
    "        row['venue'], \n",
    "        row['date'], \n",
    "        row['match_type'],\n",
    "        row['match_type_number'], \n",
    "        row['teams'], \n",
    "        row['toss_winner'], \n",
    "        row['toss_decision'],\n",
    "        row['outcome_by_runs'] if pd.notna(row['outcome_by_runs']) else None, \n",
    "        row['outcome_by_wickets'] if pd.notna(row['outcome_by_wickets']) else None, \n",
    "        row['winner'] if pd.notna(row['winner']) else None,\n",
    "        row['player_of_match'] if pd.notna(row['player_of_match']) else None, \n",
    "        row['target'] if pd.notna(row['target']) else None\n",
    "    ))"
   ]
  },
  {
   "cell_type": "code",
   "execution_count": 61,
   "metadata": {},
   "outputs": [],
   "source": [
    "#Creating ODI_inn table"
   ]
  },
  {
   "cell_type": "code",
   "execution_count": 65,
   "metadata": {},
   "outputs": [],
   "source": [
    "mycursor.execute(\"CREATE TABLE ODI_inn(season VARCHAR(20), match_type_number INT, team VARCHAR(100), overs INT, batter VARCHAR(100), bowler VARCHAR(100), runs_batter INT, \\\n",
    "                 runs_extras INT, runs_total INT, non_striker VARCHAR(50))\")"
   ]
  },
  {
   "cell_type": "code",
   "execution_count": 66,
   "metadata": {},
   "outputs": [],
   "source": [
    "ODI_inn = pd.read_csv(\"C:/Users/Sajiv/Documents/Cricket/ODI_set/ODI_innings.csv\")"
   ]
  },
  {
   "cell_type": "code",
   "execution_count": 67,
   "metadata": {},
   "outputs": [],
   "source": [
    "insert_query = \"INSERT INTO Cricket_match_analysis.ODI_inn(season, match_type_number, team, overs, batter, bowler, runs_batter, \\\n",
    "                 runs_extras, runs_total, non_striker) values(%s,%s,%s,%s,%s,%s,%s,%s,%s,%s)\""
   ]
  },
  {
   "cell_type": "code",
   "execution_count": 68,
   "metadata": {},
   "outputs": [],
   "source": [
    "for index, row in ODI_inn.iterrows():\n",
    "    mycursor.execute(insert_query, (\n",
    "        row['season'] if pd.notna(row['season']) else None, \n",
    "        row['match_type_number'] if pd.notna(row['match_type_number']) else None, \n",
    "        row['team'] if pd.notna(row['team']) else None, \n",
    "        row['overs'] if pd.notna(row['overs']) else None, \n",
    "        row['batter'] if pd.notna(row['batter']) else None,\n",
    "        row['bowler'] if pd.notna(row['bowler']) else None, \n",
    "        row['runs_batter'] if pd.notna(row['runs_batter']) else None, \n",
    "        row['runs_extras'] if pd.notna(row['runs_extras']) else None,\n",
    "        row['runs_total'] if pd.notna(row['runs_total']) else None, \n",
    "        row['non_striker'] if pd.notna(row['non_striker']) else None\n",
    "))        "
   ]
  },
  {
   "cell_type": "code",
   "execution_count": 69,
   "metadata": {},
   "outputs": [],
   "source": [
    "#Creating Test_info table"
   ]
  },
  {
   "cell_type": "code",
   "execution_count": 4,
   "metadata": {},
   "outputs": [],
   "source": [
    "mydb = mysql.connector.connect(\n",
    "    host = \"localhost\",\n",
    "    user = \"root\",\n",
    "    password=\"root\",\n",
    "    database=\"Cricket_match_analysis\"\n",
    ")\n",
    "mycursor = mydb.cursor()"
   ]
  },
  {
   "cell_type": "code",
   "execution_count": 5,
   "metadata": {},
   "outputs": [],
   "source": [
    "mycursor.execute(\"CREATE TABLE Test_info(season VARCHAR(20), city VARCHAR(100), venue VARCHAR(100), date DATE, match_type VARCHAR(10), match_type_number INT, \\\n",
    "                 teams VARCHAR(100), toss_winner VARCHAR(100), toss_decision VARCHAR(100), outcome_by_runs FLOAT, outcome_by_wickets FLOAT, draw_outcome VARCHAR(20), \\\n",
    "                 winner VARCHAR(100), player_of_match VARCHAR(100), target FLOAT)\")"
   ]
  },
  {
   "cell_type": "code",
   "execution_count": 8,
   "metadata": {},
   "outputs": [],
   "source": [
    "Test_data = pd.read_csv(\"C:/Users/Sajiv/Documents/Cricket/Test_set/Test_match_info.csv\")"
   ]
  },
  {
   "cell_type": "code",
   "execution_count": 9,
   "metadata": {},
   "outputs": [],
   "source": [
    "Test_data= Test_data.where(pd.notnull(Test_data), None)"
   ]
  },
  {
   "cell_type": "code",
   "execution_count": 10,
   "metadata": {},
   "outputs": [],
   "source": [
    "insert_query = \"INSERT INTO Cricket_match_analysis.Test_info(season, city, venue, date, match_type, match_type_number, \\\n",
    "                 teams, toss_winner, toss_decision, outcome_by_runs, outcome_by_wickets, draw_outcome, \\\n",
    "                 winner, player_of_match, target) \\\n",
    "                values(%s,%s,%s,%s,%s,%s,%s,%s,%s,%s,%s,%s,%s,%s,%s)\""
   ]
  },
  {
   "cell_type": "code",
   "execution_count": 12,
   "metadata": {},
   "outputs": [],
   "source": [
    "from datetime import datetime\n",
    "for index, row in Test_data.iterrows():\n",
    "\n",
    "    date_str = row['date']\n",
    "    formatted_date = datetime.strptime(date_str, \"%d-%m-%Y\").strftime(\"%Y-%m-%d\") if pd.notna(date_str) else None"
   ]
  },
  {
   "cell_type": "code",
   "execution_count": 14,
   "metadata": {},
   "outputs": [],
   "source": [
    "for index, row in Test_data.iterrows():\n",
    "    mycursor.execute(insert_query, (\n",
    "        row['season'], \n",
    "        row['city'] if pd.notna(row['city']) else None, \n",
    "        row['venue'], \n",
    "        formatted_date, \n",
    "        row['match_type'],\n",
    "        row['match_type_number'], \n",
    "        row['teams'], \n",
    "        row['toss_winner'], \n",
    "        row['toss_decision'],\n",
    "        row['outcome_by_runs'] if pd.notna(row['outcome_by_runs']) else None, \n",
    "        row['outcome_by_wickets'] if pd.notna(row['outcome_by_wickets']) else None, \n",
    "        row['draw_outcome'] if pd.notna(row['draw_outcome']) else None,\n",
    "        row['winner'] if pd.notna(row['winner']) else None,\n",
    "        row['player_of_match'] if pd.notna(row['player_of_match']) else None, \n",
    "        row['target'] if pd.notna(row['target']) else None\n",
    "    ))"
   ]
  },
  {
   "cell_type": "code",
   "execution_count": 15,
   "metadata": {},
   "outputs": [],
   "source": [
    "#Creating Test_inn table"
   ]
  },
  {
   "cell_type": "code",
   "execution_count": 16,
   "metadata": {},
   "outputs": [],
   "source": [
    "mycursor.execute(\"CREATE TABLE Test_inn(season VARCHAR(20), match_type_number INT, team VARCHAR(100), overs INT, batter VARCHAR(100), bowler VARCHAR(100), runs_batter INT, \\\n",
    "                 runs_extras INT, runs_total INT, non_striker VARCHAR(50))\")"
   ]
  },
  {
   "cell_type": "code",
   "execution_count": 17,
   "metadata": {},
   "outputs": [],
   "source": [
    "Test_inn = pd.read_csv(\"C:/Users/Sajiv/Documents/Cricket/Test_set/Test_innings.csv\")"
   ]
  },
  {
   "cell_type": "code",
   "execution_count": 18,
   "metadata": {},
   "outputs": [],
   "source": [
    "insert_query = \"INSERT INTO Cricket_match_analysis.Test_inn(season, match_type_number, team, overs, batter, bowler, runs_batter, \\\n",
    "                 runs_extras, runs_total, non_striker) values(%s,%s,%s,%s,%s,%s,%s,%s,%s,%s)\""
   ]
  },
  {
   "cell_type": "code",
   "execution_count": 19,
   "metadata": {},
   "outputs": [],
   "source": [
    "for index, row in Test_inn.iterrows():\n",
    "    mycursor.execute(insert_query, (\n",
    "        row['season'] if pd.notna(row['season']) else None, \n",
    "        row['match_type_number'] if pd.notna(row['match_type_number']) else None, \n",
    "        row['team'] if pd.notna(row['team']) else None, \n",
    "        row['overs'] if pd.notna(row['overs']) else None, \n",
    "        row['batter'] if pd.notna(row['batter']) else None,\n",
    "        row['bowler'] if pd.notna(row['bowler']) else None, \n",
    "        row['runs_batter'] if pd.notna(row['runs_batter']) else None, \n",
    "        row['runs_extras'] if pd.notna(row['runs_extras']) else None,\n",
    "        row['runs_total'] if pd.notna(row['runs_total']) else None, \n",
    "        row['non_striker'] if pd.notna(row['non_striker']) else None\n",
    "))        "
   ]
  },
  {
   "cell_type": "code",
   "execution_count": 20,
   "metadata": {},
   "outputs": [],
   "source": [
    "mydb.commit()\n",
    "\n",
    "mycursor.close()\n",
    "mydb.close()    "
   ]
  }
 ],
 "metadata": {
  "kernelspec": {
   "display_name": "Python 3",
   "language": "python",
   "name": "python3"
  },
  "language_info": {
   "codemirror_mode": {
    "name": "ipython",
    "version": 3
   },
   "file_extension": ".py",
   "mimetype": "text/x-python",
   "name": "python",
   "nbconvert_exporter": "python",
   "pygments_lexer": "ipython3",
   "version": "3.10.0"
  }
 },
 "nbformat": 4,
 "nbformat_minor": 2
}
